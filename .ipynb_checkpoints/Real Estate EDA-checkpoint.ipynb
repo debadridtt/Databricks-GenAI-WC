{
 "cells": [
  {
   "cell_type": "code",
   "execution_count": 1,
   "id": "005d16dc-8555-4d9d-ad97-c9c05711e0be",
   "metadata": {},
   "outputs": [],
   "source": [
    "import pandas as pd\n",
    "import warnings\n",
    "warnings.filterwarnings('ignore')"
   ]
  },
  {
   "cell_type": "code",
   "execution_count": 2,
   "id": "b70696c0-902d-410f-89c6-7393e8c633fb",
   "metadata": {},
   "outputs": [],
   "source": [
    "df = pd.read_csv('datasets/properties.csv')"
   ]
  },
  {
   "cell_type": "code",
   "execution_count": 3,
   "id": "70ebb3e4-ca45-4b3d-a439-2a76bb00c737",
   "metadata": {},
   "outputs": [
    {
     "data": {
      "text/html": [
       "<div>\n",
       "<style scoped>\n",
       "    .dataframe tbody tr th:only-of-type {\n",
       "        vertical-align: middle;\n",
       "    }\n",
       "\n",
       "    .dataframe tbody tr th {\n",
       "        vertical-align: top;\n",
       "    }\n",
       "\n",
       "    .dataframe thead th {\n",
       "        text-align: right;\n",
       "    }\n",
       "</style>\n",
       "<table border=\"1\" class=\"dataframe\">\n",
       "  <thead>\n",
       "    <tr style=\"text-align: right;\">\n",
       "      <th></th>\n",
       "      <th>ID</th>\n",
       "      <th>Possession Status</th>\n",
       "      <th>Availability Starts From</th>\n",
       "      <th>Floor No</th>\n",
       "      <th>Commercial</th>\n",
       "      <th>Developer</th>\n",
       "      <th>Approved Authority Name</th>\n",
       "      <th>Units Available</th>\n",
       "      <th>Price</th>\n",
       "      <th>Price (English)</th>\n",
       "      <th>...</th>\n",
       "      <th>Rentable CommuniPfty Space</th>\n",
       "      <th>Retail Boulevard (Retail Shops)</th>\n",
       "      <th>Cycling &amp; Jogging Track</th>\n",
       "      <th>Fire Fighting Equipment</th>\n",
       "      <th>Aesthetically designed landscape garden</th>\n",
       "      <th>Possession By</th>\n",
       "      <th>NRI Pref</th>\n",
       "      <th>Land Area / Covered Area</th>\n",
       "      <th>Land Area Unit</th>\n",
       "      <th>Pantry Type</th>\n",
       "    </tr>\n",
       "  </thead>\n",
       "  <tbody>\n",
       "    <tr>\n",
       "      <th>0</th>\n",
       "      <td>12685</td>\n",
       "      <td>Under Construction</td>\n",
       "      <td>Dec '25</td>\n",
       "      <td>5</td>\n",
       "      <td>N</td>\n",
       "      <td>NaN</td>\n",
       "      <td>KDMC</td>\n",
       "      <td>1.0</td>\n",
       "      <td>3150000.0</td>\n",
       "      <td>31.5 Lac</td>\n",
       "      <td>...</td>\n",
       "      <td>1</td>\n",
       "      <td>1</td>\n",
       "      <td>1</td>\n",
       "      <td>1</td>\n",
       "      <td>1</td>\n",
       "      <td>NaN</td>\n",
       "      <td>NaN</td>\n",
       "      <td>NaN</td>\n",
       "      <td>NaN</td>\n",
       "      <td>NaN</td>\n",
       "    </tr>\n",
       "    <tr>\n",
       "      <th>1</th>\n",
       "      <td>12684</td>\n",
       "      <td>Ready to Move</td>\n",
       "      <td>NaN</td>\n",
       "      <td>20</td>\n",
       "      <td>Y</td>\n",
       "      <td>TATA Housing Development Company Ltd.</td>\n",
       "      <td>TMC</td>\n",
       "      <td>10.0</td>\n",
       "      <td>6300000.0</td>\n",
       "      <td>63 Lac</td>\n",
       "      <td>...</td>\n",
       "      <td>1</td>\n",
       "      <td>1</td>\n",
       "      <td>1</td>\n",
       "      <td>1</td>\n",
       "      <td>1</td>\n",
       "      <td>NaN</td>\n",
       "      <td>NaN</td>\n",
       "      <td>NaN</td>\n",
       "      <td>NaN</td>\n",
       "      <td>NaN</td>\n",
       "    </tr>\n",
       "  </tbody>\n",
       "</table>\n",
       "<p>2 rows × 145 columns</p>\n",
       "</div>"
      ],
      "text/plain": [
       "      ID   Possession Status Availability Starts From Floor No Commercial  \\\n",
       "0  12685  Under Construction                  Dec '25        5          N   \n",
       "1  12684       Ready to Move                      NaN       20          Y   \n",
       "\n",
       "                               Developer Approved Authority Name  \\\n",
       "0                                    NaN                    KDMC   \n",
       "1  TATA Housing Development Company Ltd.                     TMC   \n",
       "\n",
       "   Units Available      Price Price (English)  ... Rentable CommuniPfty Space  \\\n",
       "0              1.0  3150000.0        31.5 Lac  ...                          1   \n",
       "1             10.0  6300000.0          63 Lac  ...                          1   \n",
       "\n",
       "  Retail Boulevard (Retail Shops) Cycling & Jogging Track  \\\n",
       "0                               1                       1   \n",
       "1                               1                       1   \n",
       "\n",
       "   Fire Fighting Equipment  Aesthetically designed landscape garden  \\\n",
       "0                        1                                        1   \n",
       "1                        1                                        1   \n",
       "\n",
       "  Possession By  NRI Pref Land Area / Covered Area  Land Area Unit  \\\n",
       "0           NaN       NaN                      NaN             NaN   \n",
       "1           NaN       NaN                      NaN             NaN   \n",
       "\n",
       "   Pantry Type  \n",
       "0          NaN  \n",
       "1          NaN  \n",
       "\n",
       "[2 rows x 145 columns]"
      ]
     },
     "execution_count": 3,
     "metadata": {},
     "output_type": "execute_result"
    }
   ],
   "source": [
    "df.head(2)"
   ]
  },
  {
   "cell_type": "code",
   "execution_count": 4,
   "id": "db4618cf-f3a8-49df-b1c1-66a356936a1e",
   "metadata": {},
   "outputs": [
    {
     "data": {
      "text/plain": [
       "((12685, 145), (12685, 145))"
      ]
     },
     "execution_count": 4,
     "metadata": {},
     "output_type": "execute_result"
    }
   ],
   "source": [
    "df.shape, df.drop_duplicates().shape"
   ]
  },
  {
   "cell_type": "code",
   "execution_count": 5,
   "id": "12241060-3af3-42e6-b440-ce74eec55371",
   "metadata": {},
   "outputs": [
    {
     "data": {
      "text/plain": [
       "ID                              0\n",
       "Possession Status              78\n",
       "Availability Starts From     9602\n",
       "Floor No                      858\n",
       "Commercial                      0\n",
       "                            ...  \n",
       "Possession By               12449\n",
       "NRI Pref                    10668\n",
       "Land Area / Covered Area    12601\n",
       "Land Area Unit              12599\n",
       "Pantry Type                 12620\n",
       "Length: 145, dtype: int64"
      ]
     },
     "execution_count": 5,
     "metadata": {},
     "output_type": "execute_result"
    }
   ],
   "source": [
    "df.isnull().sum()"
   ]
  },
  {
   "cell_type": "code",
   "execution_count": 6,
   "id": "d1b5c7a6-dfa0-4c3c-93db-5884b09f0886",
   "metadata": {},
   "outputs": [],
   "source": [
    "df['Developer'] = df['Developer'].fillna('Local')"
   ]
  },
  {
   "cell_type": "code",
   "execution_count": 7,
   "id": "4a4e6472-5479-4813-9e45-8205fc70036d",
   "metadata": {},
   "outputs": [],
   "source": [
    "df['Units Available'] = df['Units Available'].fillna(1)\n",
    "pct_null = df.isnull().sum() / len(df)\n",
    "missing_features = pct_null[pct_null >= 0.2].index # dropping columns with >= 20%\n",
    "df.drop(missing_features, axis=1, inplace=True)"
   ]
  },
  {
   "cell_type": "code",
   "execution_count": 8,
   "id": "6e3ddfd7-e041-464f-a944-2655477bbe6b",
   "metadata": {},
   "outputs": [
    {
     "data": {
      "text/html": [
       "<div>\n",
       "<style scoped>\n",
       "    .dataframe tbody tr th:only-of-type {\n",
       "        vertical-align: middle;\n",
       "    }\n",
       "\n",
       "    .dataframe tbody tr th {\n",
       "        vertical-align: top;\n",
       "    }\n",
       "\n",
       "    .dataframe thead th {\n",
       "        text-align: right;\n",
       "    }\n",
       "</style>\n",
       "<table border=\"1\" class=\"dataframe\">\n",
       "  <thead>\n",
       "    <tr style=\"text-align: right;\">\n",
       "      <th></th>\n",
       "      <th>Possession Status</th>\n",
       "      <th>count</th>\n",
       "    </tr>\n",
       "  </thead>\n",
       "  <tbody>\n",
       "    <tr>\n",
       "      <th>0</th>\n",
       "      <td>Ready to Move</td>\n",
       "      <td>9735</td>\n",
       "    </tr>\n",
       "    <tr>\n",
       "      <th>1</th>\n",
       "      <td>Under Construction</td>\n",
       "      <td>2630</td>\n",
       "    </tr>\n",
       "    <tr>\n",
       "      <th>2</th>\n",
       "      <td>Dec '26</td>\n",
       "      <td>50</td>\n",
       "    </tr>\n",
       "    <tr>\n",
       "      <th>3</th>\n",
       "      <td>Dec '24</td>\n",
       "      <td>31</td>\n",
       "    </tr>\n",
       "    <tr>\n",
       "      <th>4</th>\n",
       "      <td>Dec '23</td>\n",
       "      <td>29</td>\n",
       "    </tr>\n",
       "    <tr>\n",
       "      <th>5</th>\n",
       "      <td>Dec '25</td>\n",
       "      <td>28</td>\n",
       "    </tr>\n",
       "    <tr>\n",
       "      <th>6</th>\n",
       "      <td>Jun '24</td>\n",
       "      <td>21</td>\n",
       "    </tr>\n",
       "    <tr>\n",
       "      <th>7</th>\n",
       "      <td>Dec '27</td>\n",
       "      <td>16</td>\n",
       "    </tr>\n",
       "    <tr>\n",
       "      <th>8</th>\n",
       "      <td>Jun '26</td>\n",
       "      <td>16</td>\n",
       "    </tr>\n",
       "    <tr>\n",
       "      <th>9</th>\n",
       "      <td>Dec '28</td>\n",
       "      <td>12</td>\n",
       "    </tr>\n",
       "    <tr>\n",
       "      <th>10</th>\n",
       "      <td>Mar '25</td>\n",
       "      <td>6</td>\n",
       "    </tr>\n",
       "    <tr>\n",
       "      <th>11</th>\n",
       "      <td>Mar '24</td>\n",
       "      <td>5</td>\n",
       "    </tr>\n",
       "    <tr>\n",
       "      <th>12</th>\n",
       "      <td>Apr '28</td>\n",
       "      <td>4</td>\n",
       "    </tr>\n",
       "    <tr>\n",
       "      <th>13</th>\n",
       "      <td>Sep '26</td>\n",
       "      <td>4</td>\n",
       "    </tr>\n",
       "    <tr>\n",
       "      <th>14</th>\n",
       "      <td>Immediately</td>\n",
       "      <td>4</td>\n",
       "    </tr>\n",
       "    <tr>\n",
       "      <th>15</th>\n",
       "      <td>Nov '25</td>\n",
       "      <td>3</td>\n",
       "    </tr>\n",
       "    <tr>\n",
       "      <th>16</th>\n",
       "      <td>Apr '24</td>\n",
       "      <td>3</td>\n",
       "    </tr>\n",
       "    <tr>\n",
       "      <th>17</th>\n",
       "      <td>Jun '25</td>\n",
       "      <td>3</td>\n",
       "    </tr>\n",
       "    <tr>\n",
       "      <th>18</th>\n",
       "      <td>Sep '23</td>\n",
       "      <td>3</td>\n",
       "    </tr>\n",
       "    <tr>\n",
       "      <th>19</th>\n",
       "      <td>Nov '23</td>\n",
       "      <td>2</td>\n",
       "    </tr>\n",
       "    <tr>\n",
       "      <th>20</th>\n",
       "      <td>Select Date</td>\n",
       "      <td>2</td>\n",
       "    </tr>\n",
       "  </tbody>\n",
       "</table>\n",
       "</div>"
      ],
      "text/plain": [
       "     Possession Status  count\n",
       "0        Ready to Move   9735\n",
       "1   Under Construction   2630\n",
       "2              Dec '26     50\n",
       "3              Dec '24     31\n",
       "4              Dec '23     29\n",
       "5              Dec '25     28\n",
       "6              Jun '24     21\n",
       "7              Dec '27     16\n",
       "8              Jun '26     16\n",
       "9              Dec '28     12\n",
       "10             Mar '25      6\n",
       "11             Mar '24      5\n",
       "12             Apr '28      4\n",
       "13             Sep '26      4\n",
       "14         Immediately      4\n",
       "15             Nov '25      3\n",
       "16             Apr '24      3\n",
       "17             Jun '25      3\n",
       "18             Sep '23      3\n",
       "19             Nov '23      2\n",
       "20         Select Date      2"
      ]
     },
     "execution_count": 8,
     "metadata": {},
     "output_type": "execute_result"
    }
   ],
   "source": [
    "df['Possession Status'].value_counts().to_frame().reset_index()"
   ]
  },
  {
   "cell_type": "code",
   "execution_count": 9,
   "id": "42899a14-5dd4-4edf-b3df-a7afe6add6e8",
   "metadata": {},
   "outputs": [
    {
     "data": {
      "text/plain": [
       "(Index(['ID', 'Possession Status', 'Floor No', 'Commercial', 'Developer',\n",
       "        'Units Available', 'Price', 'Price (English)', 'Covered Area',\n",
       "        'sqft Price ', 'Area Name', 'Unit of Carpet Area', 'Society',\n",
       "        'furnished Type', 'Bathroom', 'Transaction Type', 'Floor Data',\n",
       "        'Type of Property', 'City', 'bedroom', 'Data Referred From', 'floors',\n",
       "        'Luxury Flat', 'Covered Area.1', 'isPrimeLocationProperty',\n",
       "        'Tenants Preference', 'Location', 'Property', 'covArea Unit',\n",
       "        'isLuxuryServiceProvided', 'Power Back Up', 'Lift',\n",
       "        'Rain Water Harvesting', 'Club House', 'Swimming Pool', 'Gymnasium',\n",
       "        'Park', 'Parking.1', 'Security', 'Water Storage'],\n",
       "       dtype='object'),\n",
       " Index(['Private Terrace/Garden', 'Vaastu Compliant', 'Service/Goods Lift',\n",
       "        'Air Conditioned', 'Visitor Parking', 'Intercom Facility',\n",
       "        'Maintenance Staff', 'Waste Disposal', 'Laundry Service',\n",
       "        'Internet/Wi-Fi Connectivity', 'DTH Television Facility',\n",
       "        'RO Water System', 'Banquet Hall', 'Bar/Lounge', 'Cafeteria/Food Court',\n",
       "        'Conference Room', 'Piped Gas', 'Jogging and Strolling Track',\n",
       "        'Outdoor Tennis Courts', 'Mansion', 'Downtown', 'Skyline View',\n",
       "        'Wrap Around Balcony', 'Island Kitchen Layout', 'Full Glass Wall',\n",
       "        'House help accommodation', 'Concierge Services', 'Garden View',\n",
       "        'Marble flooring', 'Well Furnished', 'Modular Kitchen', 'Helipad',\n",
       "        'Private pool ', 'Private Jaccuzi', 'Mini Cinema Theatre',\n",
       "        'Golf Course', 'Infinity Swimming Pool',\n",
       "        'Pool with temperature control ', 'Sea facing', 'Skydeck'],\n",
       "       dtype='object'),\n",
       " Index(['Earth quake resistant', 'Theme based Architectures',\n",
       "        'Health club with Steam / Jaccuzi', 'Large Clubhouse ',\n",
       "        'Large Open space', 'Fingerprint Access', 'Grand Entrance lobby',\n",
       "        'Private Garage', 'Fireplace', 'Wine Cellar', 'Sky Villa',\n",
       "        'Water Front', 'Hilltop', 'Smart Home', 'Barbeque space',\n",
       "        'Kids play area', 'Library', 'Puja Room', 'Study', 'Servant Room',\n",
       "        'Store', 'Aerobics Room', 'Canopy Walk', 'Coffee Lounge & Restaurants',\n",
       "        'Dance Studio', 'Event Space & Amphitheatre', 'Flower Gardens',\n",
       "        'Guest Accommodation', 'Indoor Squash & Badminton Courts',\n",
       "        'Kids Play Area', 'Kids Play Pool With Water Slides',\n",
       "        'Library And Business Centre', 'Meditation Area', 'Multipurpose Courts',\n",
       "        'Recreational Pool', 'Rentable CommuniPfty Space',\n",
       "        'Retail Boulevard (Retail Shops)', 'Cycling & Jogging Track',\n",
       "        'Fire Fighting Equipment', 'Aesthetically designed landscape garden'],\n",
       "       dtype='object'))"
      ]
     },
     "execution_count": 9,
     "metadata": {},
     "output_type": "execute_result"
    }
   ],
   "source": [
    "df.columns[:40], df.columns[40:80], df.columns[80:]"
   ]
  },
  {
   "cell_type": "code",
   "execution_count": 10,
   "id": "355aea8d-27d0-43d2-bc1a-41a019778690",
   "metadata": {},
   "outputs": [
    {
     "data": {
      "text/plain": [
       "ID                                         12685\n",
       "Possession Status                             21\n",
       "Floor No                                      70\n",
       "Commercial                                     2\n",
       "Developer                                    943\n",
       "                                           ...  \n",
       "Rentable CommuniPfty Space                     2\n",
       "Retail Boulevard (Retail Shops)                2\n",
       "Cycling & Jogging Track                        2\n",
       "Fire Fighting Equipment                        2\n",
       "Aesthetically designed landscape garden        2\n",
       "Length: 120, dtype: int64"
      ]
     },
     "execution_count": 10,
     "metadata": {},
     "output_type": "execute_result"
    }
   ],
   "source": [
    "df.nunique()"
   ]
  },
  {
   "cell_type": "code",
   "execution_count": 11,
   "id": "7c6eaf5d-9d81-4dd7-9e98-29516d12f4eb",
   "metadata": {},
   "outputs": [],
   "source": [
    "df = df[df['Possession Status'].isin(['Ready to Move', 'Under Construction'])]\n",
    "df.reset_index(drop=True, inplace=True)"
   ]
  },
  {
   "cell_type": "code",
   "execution_count": 12,
   "id": "3ec5c746-0bc6-4f09-a502-ee26a75c5e88",
   "metadata": {},
   "outputs": [
    {
     "data": {
      "text/plain": [
       "(12365, 120)"
      ]
     },
     "execution_count": 12,
     "metadata": {},
     "output_type": "execute_result"
    }
   ],
   "source": [
    "df.shape"
   ]
  },
  {
   "cell_type": "code",
   "execution_count": 13,
   "id": "e02f36a6-9b1e-45d7-9acd-9e688a30a269",
   "metadata": {},
   "outputs": [
    {
     "data": {
      "text/plain": [
       "Area Name\n",
       "Dombivli East     654\n",
       "Andheri West      484\n",
       "Malad East        466\n",
       "Thane West        429\n",
       "Andheri East      426\n",
       "Kandivali West    357\n",
       "Kolshet Road      320\n",
       "Majiwada          310\n",
       "Goregaon East     278\n",
       "Mira Road East    278\n",
       "Kandivali East    276\n",
       "Virar West        242\n",
       "Manpada           230\n",
       "Prabhadevi        212\n",
       "Kalyan West       207\n",
       "Balkum village    188\n",
       "Santacruz West    185\n",
       "Dahisar East      185\n",
       "Naigaon East      176\n",
       "Dadar West        160\n",
       "Name: count, dtype: int64"
      ]
     },
     "execution_count": 13,
     "metadata": {},
     "output_type": "execute_result"
    }
   ],
   "source": [
    "df['Area Name'].value_counts()[:20]"
   ]
  },
  {
   "cell_type": "code",
   "execution_count": 14,
   "id": "3afe91e0-f3c5-4735-919e-f8ac77ed9535",
   "metadata": {},
   "outputs": [],
   "source": [
    "df_location_property_count = df.groupby(['Area Name'])['Units Available'].sum().to_frame().reset_index()\n",
    "df_location_property_count = df_location_property_count[:10]"
   ]
  },
  {
   "cell_type": "code",
   "execution_count": 15,
   "id": "61844891-82a1-4e0c-89ac-2786ccae452b",
   "metadata": {},
   "outputs": [],
   "source": [
    "for i in df.columns:\n",
    "    df[i] = df[i].fillna(df[i].mode()[0])"
   ]
  },
  {
   "cell_type": "code",
   "execution_count": 16,
   "id": "c97d0c9f-6cc4-449c-bbbf-75a942694165",
   "metadata": {
    "scrolled": true
   },
   "outputs": [],
   "source": [
    "import numpy as np\n",
    "\n",
    "for i in df.columns:\n",
    "    if (df[i].nunique() == 2):\n",
    "        if(df[i].min() == 0) & (df[i].max() == 1):\n",
    "            df[i] = np.where(df[i] == 0, 'No', 'Yes')"
   ]
  },
  {
   "cell_type": "code",
   "execution_count": 17,
   "id": "96a2394d-28fb-4d71-a7a1-03d09a669143",
   "metadata": {},
   "outputs": [],
   "source": [
    "df.rename(columns={'Price (English)':'Value'}, inplace=True)"
   ]
  },
  {
   "cell_type": "code",
   "execution_count": 18,
   "id": "187369af-ce11-44c3-8414-944c3475817b",
   "metadata": {},
   "outputs": [],
   "source": [
    "df.to_csv('D:/Downloads/prop.csv', index=False)"
   ]
  },
  {
   "cell_type": "code",
   "execution_count": 19,
   "id": "4158a410-ef2b-44a7-87b9-7894f80f0f4b",
   "metadata": {},
   "outputs": [
    {
     "data": {
      "text/plain": [
       "ID                                          int64\n",
       "Possession Status                          object\n",
       "Floor No                                   object\n",
       "Commercial                                 object\n",
       "Developer                                  object\n",
       "                                            ...  \n",
       "Rentable CommuniPfty Space                 object\n",
       "Retail Boulevard (Retail Shops)            object\n",
       "Cycling & Jogging Track                    object\n",
       "Fire Fighting Equipment                    object\n",
       "Aesthetically designed landscape garden    object\n",
       "Length: 120, dtype: object"
      ]
     },
     "execution_count": 19,
     "metadata": {},
     "output_type": "execute_result"
    }
   ],
   "source": [
    "df.dtypes"
   ]
  },
  {
   "cell_type": "code",
   "execution_count": 20,
   "id": "7b6f5192-360a-4222-8de0-24a840f2e140",
   "metadata": {},
   "outputs": [],
   "source": [
    "df_filtered = df[(df['Area Name'] == 'Kalyan West') & (df['Swimming Pool'] == 'Yes') & (df['Price'] <= 5000000)]"
   ]
  },
  {
   "cell_type": "code",
   "execution_count": 21,
   "id": "e5846e1e-d1ff-4f0f-82dd-7e6e9e202920",
   "metadata": {
    "scrolled": true
   },
   "outputs": [
    {
     "data": {
      "text/plain": [
       "2"
      ]
     },
     "execution_count": 21,
     "metadata": {},
     "output_type": "execute_result"
    }
   ],
   "source": [
    "df['Swimming Pool'].nunique()"
   ]
  },
  {
   "cell_type": "code",
   "execution_count": 22,
   "id": "8c05e7ca-c1de-4d76-8b33-445893f3089a",
   "metadata": {},
   "outputs": [
    {
     "name": "stdout",
     "output_type": "stream",
     "text": [
      "The best property with swimming pool within 50 lakhs in Kalywan West is:\n",
      "ID                                                                       12546\n",
      "Possession Status                                                Ready to Move\n",
      "Floor No                                                                     4\n",
      "Commercial                                                                   N\n",
      "Developer                                  Haware Engineers & Builders Pvt Ltd\n",
      "                                                          ...                 \n",
      "Rentable CommuniPfty Space                                                 Yes\n",
      "Retail Boulevard (Retail Shops)                                            Yes\n",
      "Cycling & Jogging Track                                                    Yes\n",
      "Fire Fighting Equipment                                                    Yes\n",
      "Aesthetically designed landscape garden                                    Yes\n",
      "Name: 139, Length: 120, dtype: object\n"
     ]
    }
   ],
   "source": [
    "df_sorted = df_filtered.sort_values(by='Price', ascending=True)\n",
    "\n",
    "# Get the best property (i.e., the property with the lowest price) from the sorted dataframe\n",
    "best_property = df_sorted.iloc[0]\n",
    "\n",
    "# Print the details of the best property\n",
    "print(\"The best property with swimming pool within 50 lakhs in Kalywan West is:\")\n",
    "print(best_property)"
   ]
  },
  {
   "cell_type": "code",
   "execution_count": null,
   "id": "4b0c92c5-71cf-43f6-ae9e-4f5aa53aa299",
   "metadata": {},
   "outputs": [],
   "source": []
  },
  {
   "cell_type": "code",
   "execution_count": null,
   "id": "f580c1de-a0c8-4498-9e13-83cd215be0bc",
   "metadata": {},
   "outputs": [],
   "source": []
  }
 ],
 "metadata": {
  "kernelspec": {
   "display_name": "Python 3 (ipykernel)",
   "language": "python",
   "name": "python3"
  },
  "language_info": {
   "codemirror_mode": {
    "name": "ipython",
    "version": 3
   },
   "file_extension": ".py",
   "mimetype": "text/x-python",
   "name": "python",
   "nbconvert_exporter": "python",
   "pygments_lexer": "ipython3",
   "version": "3.12.4"
  }
 },
 "nbformat": 4,
 "nbformat_minor": 5
}
