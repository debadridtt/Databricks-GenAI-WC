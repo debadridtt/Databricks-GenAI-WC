{
 "cells": [
  {
   "cell_type": "code",
   "execution_count": 21,
   "id": "005d16dc-8555-4d9d-ad97-c9c05711e0be",
   "metadata": {},
   "outputs": [],
   "source": [
    "import pandas as pd\n",
    "import numpy as np\n",
    "import warnings\n",
    "warnings.filterwarnings('ignore')"
   ]
  },
  {
   "cell_type": "code",
   "execution_count": 22,
   "id": "b70696c0-902d-410f-89c6-7393e8c633fb",
   "metadata": {},
   "outputs": [],
   "source": [
    "df = pd.read_csv('datasets/properties.csv')"
   ]
  },
  {
   "cell_type": "code",
   "execution_count": 23,
   "id": "70ebb3e4-ca45-4b3d-a439-2a76bb00c737",
   "metadata": {},
   "outputs": [
    {
     "data": {
      "text/html": [
       "<div>\n",
       "<style scoped>\n",
       "    .dataframe tbody tr th:only-of-type {\n",
       "        vertical-align: middle;\n",
       "    }\n",
       "\n",
       "    .dataframe tbody tr th {\n",
       "        vertical-align: top;\n",
       "    }\n",
       "\n",
       "    .dataframe thead th {\n",
       "        text-align: right;\n",
       "    }\n",
       "</style>\n",
       "<table border=\"1\" class=\"dataframe\">\n",
       "  <thead>\n",
       "    <tr style=\"text-align: right;\">\n",
       "      <th></th>\n",
       "      <th>ID</th>\n",
       "      <th>Possession Status</th>\n",
       "      <th>Availability Starts From</th>\n",
       "      <th>Floor No</th>\n",
       "      <th>Commercial</th>\n",
       "      <th>Developer</th>\n",
       "      <th>Approved Authority Name</th>\n",
       "      <th>Units Available</th>\n",
       "      <th>Price</th>\n",
       "      <th>Price (English)</th>\n",
       "      <th>...</th>\n",
       "      <th>Rentable CommuniPfty Space</th>\n",
       "      <th>Retail Boulevard (Retail Shops)</th>\n",
       "      <th>Cycling &amp; Jogging Track</th>\n",
       "      <th>Fire Fighting Equipment</th>\n",
       "      <th>Aesthetically designed landscape garden</th>\n",
       "      <th>Possession By</th>\n",
       "      <th>NRI Pref</th>\n",
       "      <th>Land Area / Covered Area</th>\n",
       "      <th>Land Area Unit</th>\n",
       "      <th>Pantry Type</th>\n",
       "    </tr>\n",
       "  </thead>\n",
       "  <tbody>\n",
       "    <tr>\n",
       "      <th>0</th>\n",
       "      <td>12685</td>\n",
       "      <td>Under Construction</td>\n",
       "      <td>Dec '25</td>\n",
       "      <td>5</td>\n",
       "      <td>N</td>\n",
       "      <td>NaN</td>\n",
       "      <td>KDMC</td>\n",
       "      <td>1.0</td>\n",
       "      <td>3150000.0</td>\n",
       "      <td>31.5 Lac</td>\n",
       "      <td>...</td>\n",
       "      <td>1</td>\n",
       "      <td>1</td>\n",
       "      <td>1</td>\n",
       "      <td>1</td>\n",
       "      <td>1</td>\n",
       "      <td>NaN</td>\n",
       "      <td>NaN</td>\n",
       "      <td>NaN</td>\n",
       "      <td>NaN</td>\n",
       "      <td>NaN</td>\n",
       "    </tr>\n",
       "    <tr>\n",
       "      <th>1</th>\n",
       "      <td>12684</td>\n",
       "      <td>Ready to Move</td>\n",
       "      <td>NaN</td>\n",
       "      <td>20</td>\n",
       "      <td>Y</td>\n",
       "      <td>TATA Housing Development Company Ltd.</td>\n",
       "      <td>TMC</td>\n",
       "      <td>10.0</td>\n",
       "      <td>6300000.0</td>\n",
       "      <td>63 Lac</td>\n",
       "      <td>...</td>\n",
       "      <td>1</td>\n",
       "      <td>1</td>\n",
       "      <td>1</td>\n",
       "      <td>1</td>\n",
       "      <td>1</td>\n",
       "      <td>NaN</td>\n",
       "      <td>NaN</td>\n",
       "      <td>NaN</td>\n",
       "      <td>NaN</td>\n",
       "      <td>NaN</td>\n",
       "    </tr>\n",
       "  </tbody>\n",
       "</table>\n",
       "<p>2 rows × 145 columns</p>\n",
       "</div>"
      ],
      "text/plain": [
       "      ID   Possession Status Availability Starts From Floor No Commercial  \\\n",
       "0  12685  Under Construction                  Dec '25        5          N   \n",
       "1  12684       Ready to Move                      NaN       20          Y   \n",
       "\n",
       "                               Developer Approved Authority Name  \\\n",
       "0                                    NaN                    KDMC   \n",
       "1  TATA Housing Development Company Ltd.                     TMC   \n",
       "\n",
       "   Units Available      Price Price (English)  ... Rentable CommuniPfty Space  \\\n",
       "0              1.0  3150000.0        31.5 Lac  ...                          1   \n",
       "1             10.0  6300000.0          63 Lac  ...                          1   \n",
       "\n",
       "  Retail Boulevard (Retail Shops) Cycling & Jogging Track  \\\n",
       "0                               1                       1   \n",
       "1                               1                       1   \n",
       "\n",
       "   Fire Fighting Equipment  Aesthetically designed landscape garden  \\\n",
       "0                        1                                        1   \n",
       "1                        1                                        1   \n",
       "\n",
       "  Possession By  NRI Pref Land Area / Covered Area  Land Area Unit  \\\n",
       "0           NaN       NaN                      NaN             NaN   \n",
       "1           NaN       NaN                      NaN             NaN   \n",
       "\n",
       "   Pantry Type  \n",
       "0          NaN  \n",
       "1          NaN  \n",
       "\n",
       "[2 rows x 145 columns]"
      ]
     },
     "execution_count": 23,
     "metadata": {},
     "output_type": "execute_result"
    }
   ],
   "source": [
    "df.head(2)"
   ]
  },
  {
   "cell_type": "code",
   "execution_count": 24,
   "id": "db4618cf-f3a8-49df-b1c1-66a356936a1e",
   "metadata": {},
   "outputs": [
    {
     "data": {
      "text/plain": [
       "((12685, 145), (12685, 145))"
      ]
     },
     "execution_count": 24,
     "metadata": {},
     "output_type": "execute_result"
    }
   ],
   "source": [
    "df.shape, df.drop_duplicates().shape"
   ]
  },
  {
   "cell_type": "code",
   "execution_count": 25,
   "id": "12241060-3af3-42e6-b440-ce74eec55371",
   "metadata": {},
   "outputs": [
    {
     "data": {
      "text/plain": [
       "ID                              0\n",
       "Possession Status              78\n",
       "Availability Starts From     9602\n",
       "Floor No                      858\n",
       "Commercial                      0\n",
       "                            ...  \n",
       "Possession By               12449\n",
       "NRI Pref                    10668\n",
       "Land Area / Covered Area    12601\n",
       "Land Area Unit              12599\n",
       "Pantry Type                 12620\n",
       "Length: 145, dtype: int64"
      ]
     },
     "execution_count": 25,
     "metadata": {},
     "output_type": "execute_result"
    }
   ],
   "source": [
    "df.isnull().sum()"
   ]
  },
  {
   "cell_type": "code",
   "execution_count": 26,
   "id": "d1b5c7a6-dfa0-4c3c-93db-5884b09f0886",
   "metadata": {},
   "outputs": [],
   "source": [
    "df['Developer'] = df['Developer'].fillna('Local')"
   ]
  },
  {
   "cell_type": "code",
   "execution_count": 27,
   "id": "4a4e6472-5479-4813-9e45-8205fc70036d",
   "metadata": {},
   "outputs": [],
   "source": [
    "df['Units Available'] = df['Units Available'].fillna(1)\n",
    "pct_null = df.isnull().sum() / len(df)\n",
    "missing_features = pct_null[pct_null >= 0.2].index # dropping columns with >= 20%\n",
    "df.drop(missing_features, axis=1, inplace=True)"
   ]
  },
  {
   "cell_type": "code",
   "execution_count": 28,
   "id": "6e3ddfd7-e041-464f-a944-2655477bbe6b",
   "metadata": {
    "scrolled": true
   },
   "outputs": [
    {
     "data": {
      "text/html": [
       "<div>\n",
       "<style scoped>\n",
       "    .dataframe tbody tr th:only-of-type {\n",
       "        vertical-align: middle;\n",
       "    }\n",
       "\n",
       "    .dataframe tbody tr th {\n",
       "        vertical-align: top;\n",
       "    }\n",
       "\n",
       "    .dataframe thead th {\n",
       "        text-align: right;\n",
       "    }\n",
       "</style>\n",
       "<table border=\"1\" class=\"dataframe\">\n",
       "  <thead>\n",
       "    <tr style=\"text-align: right;\">\n",
       "      <th></th>\n",
       "      <th>Possession Status</th>\n",
       "      <th>count</th>\n",
       "    </tr>\n",
       "  </thead>\n",
       "  <tbody>\n",
       "    <tr>\n",
       "      <th>0</th>\n",
       "      <td>Ready to Move</td>\n",
       "      <td>9735</td>\n",
       "    </tr>\n",
       "    <tr>\n",
       "      <th>1</th>\n",
       "      <td>Under Construction</td>\n",
       "      <td>2630</td>\n",
       "    </tr>\n",
       "    <tr>\n",
       "      <th>2</th>\n",
       "      <td>Dec '26</td>\n",
       "      <td>50</td>\n",
       "    </tr>\n",
       "    <tr>\n",
       "      <th>3</th>\n",
       "      <td>Dec '24</td>\n",
       "      <td>31</td>\n",
       "    </tr>\n",
       "    <tr>\n",
       "      <th>4</th>\n",
       "      <td>Dec '23</td>\n",
       "      <td>29</td>\n",
       "    </tr>\n",
       "    <tr>\n",
       "      <th>5</th>\n",
       "      <td>Dec '25</td>\n",
       "      <td>28</td>\n",
       "    </tr>\n",
       "    <tr>\n",
       "      <th>6</th>\n",
       "      <td>Jun '24</td>\n",
       "      <td>21</td>\n",
       "    </tr>\n",
       "    <tr>\n",
       "      <th>7</th>\n",
       "      <td>Dec '27</td>\n",
       "      <td>16</td>\n",
       "    </tr>\n",
       "    <tr>\n",
       "      <th>8</th>\n",
       "      <td>Jun '26</td>\n",
       "      <td>16</td>\n",
       "    </tr>\n",
       "    <tr>\n",
       "      <th>9</th>\n",
       "      <td>Dec '28</td>\n",
       "      <td>12</td>\n",
       "    </tr>\n",
       "    <tr>\n",
       "      <th>10</th>\n",
       "      <td>Mar '25</td>\n",
       "      <td>6</td>\n",
       "    </tr>\n",
       "    <tr>\n",
       "      <th>11</th>\n",
       "      <td>Mar '24</td>\n",
       "      <td>5</td>\n",
       "    </tr>\n",
       "    <tr>\n",
       "      <th>12</th>\n",
       "      <td>Apr '28</td>\n",
       "      <td>4</td>\n",
       "    </tr>\n",
       "    <tr>\n",
       "      <th>13</th>\n",
       "      <td>Sep '26</td>\n",
       "      <td>4</td>\n",
       "    </tr>\n",
       "    <tr>\n",
       "      <th>14</th>\n",
       "      <td>Immediately</td>\n",
       "      <td>4</td>\n",
       "    </tr>\n",
       "    <tr>\n",
       "      <th>15</th>\n",
       "      <td>Nov '25</td>\n",
       "      <td>3</td>\n",
       "    </tr>\n",
       "    <tr>\n",
       "      <th>16</th>\n",
       "      <td>Apr '24</td>\n",
       "      <td>3</td>\n",
       "    </tr>\n",
       "    <tr>\n",
       "      <th>17</th>\n",
       "      <td>Jun '25</td>\n",
       "      <td>3</td>\n",
       "    </tr>\n",
       "    <tr>\n",
       "      <th>18</th>\n",
       "      <td>Sep '23</td>\n",
       "      <td>3</td>\n",
       "    </tr>\n",
       "    <tr>\n",
       "      <th>19</th>\n",
       "      <td>Nov '23</td>\n",
       "      <td>2</td>\n",
       "    </tr>\n",
       "    <tr>\n",
       "      <th>20</th>\n",
       "      <td>Select Date</td>\n",
       "      <td>2</td>\n",
       "    </tr>\n",
       "  </tbody>\n",
       "</table>\n",
       "</div>"
      ],
      "text/plain": [
       "     Possession Status  count\n",
       "0        Ready to Move   9735\n",
       "1   Under Construction   2630\n",
       "2              Dec '26     50\n",
       "3              Dec '24     31\n",
       "4              Dec '23     29\n",
       "5              Dec '25     28\n",
       "6              Jun '24     21\n",
       "7              Dec '27     16\n",
       "8              Jun '26     16\n",
       "9              Dec '28     12\n",
       "10             Mar '25      6\n",
       "11             Mar '24      5\n",
       "12             Apr '28      4\n",
       "13             Sep '26      4\n",
       "14         Immediately      4\n",
       "15             Nov '25      3\n",
       "16             Apr '24      3\n",
       "17             Jun '25      3\n",
       "18             Sep '23      3\n",
       "19             Nov '23      2\n",
       "20         Select Date      2"
      ]
     },
     "execution_count": 28,
     "metadata": {},
     "output_type": "execute_result"
    }
   ],
   "source": [
    "df['Possession Status'].value_counts().to_frame().reset_index()"
   ]
  },
  {
   "cell_type": "code",
   "execution_count": 29,
   "id": "42899a14-5dd4-4edf-b3df-a7afe6add6e8",
   "metadata": {
    "scrolled": true
   },
   "outputs": [
    {
     "data": {
      "text/plain": [
       "(Index(['ID', 'Possession Status', 'Floor No', 'Commercial', 'Developer',\n",
       "        'Units Available', 'Price', 'Price (English)', 'Covered Area',\n",
       "        'sqft Price ', 'Area Name', 'Unit of Carpet Area', 'Society',\n",
       "        'furnished Type', 'Bathroom', 'Transaction Type', 'Floor Data',\n",
       "        'Type of Property', 'City', 'bedroom', 'Data Referred From', 'floors',\n",
       "        'Luxury Flat', 'Covered Area.1', 'isPrimeLocationProperty',\n",
       "        'Tenants Preference', 'Location', 'Property', 'covArea Unit',\n",
       "        'isLuxuryServiceProvided', 'Power Back Up', 'Lift',\n",
       "        'Rain Water Harvesting', 'Club House', 'Swimming Pool', 'Gymnasium',\n",
       "        'Park', 'Parking.1', 'Security', 'Water Storage'],\n",
       "       dtype='object'),\n",
       " Index(['Private Terrace/Garden', 'Vaastu Compliant', 'Service/Goods Lift',\n",
       "        'Air Conditioned', 'Visitor Parking', 'Intercom Facility',\n",
       "        'Maintenance Staff', 'Waste Disposal', 'Laundry Service',\n",
       "        'Internet/Wi-Fi Connectivity', 'DTH Television Facility',\n",
       "        'RO Water System', 'Banquet Hall', 'Bar/Lounge', 'Cafeteria/Food Court',\n",
       "        'Conference Room', 'Piped Gas', 'Jogging and Strolling Track',\n",
       "        'Outdoor Tennis Courts', 'Mansion', 'Downtown', 'Skyline View',\n",
       "        'Wrap Around Balcony', 'Island Kitchen Layout', 'Full Glass Wall',\n",
       "        'House help accommodation', 'Concierge Services', 'Garden View',\n",
       "        'Marble flooring', 'Well Furnished', 'Modular Kitchen', 'Helipad',\n",
       "        'Private pool ', 'Private Jaccuzi', 'Mini Cinema Theatre',\n",
       "        'Golf Course', 'Infinity Swimming Pool',\n",
       "        'Pool with temperature control ', 'Sea facing', 'Skydeck'],\n",
       "       dtype='object'),\n",
       " Index(['Earth quake resistant', 'Theme based Architectures',\n",
       "        'Health club with Steam / Jaccuzi', 'Large Clubhouse ',\n",
       "        'Large Open space', 'Fingerprint Access', 'Grand Entrance lobby',\n",
       "        'Private Garage', 'Fireplace', 'Wine Cellar', 'Sky Villa',\n",
       "        'Water Front', 'Hilltop', 'Smart Home', 'Barbeque space',\n",
       "        'Kids play area', 'Library', 'Puja Room', 'Study', 'Servant Room',\n",
       "        'Store', 'Aerobics Room', 'Canopy Walk', 'Coffee Lounge & Restaurants',\n",
       "        'Dance Studio', 'Event Space & Amphitheatre', 'Flower Gardens',\n",
       "        'Guest Accommodation', 'Indoor Squash & Badminton Courts',\n",
       "        'Kids Play Area', 'Kids Play Pool With Water Slides',\n",
       "        'Library And Business Centre', 'Meditation Area', 'Multipurpose Courts',\n",
       "        'Recreational Pool', 'Rentable CommuniPfty Space',\n",
       "        'Retail Boulevard (Retail Shops)', 'Cycling & Jogging Track',\n",
       "        'Fire Fighting Equipment', 'Aesthetically designed landscape garden'],\n",
       "       dtype='object'))"
      ]
     },
     "execution_count": 29,
     "metadata": {},
     "output_type": "execute_result"
    }
   ],
   "source": [
    "df.columns[:40], df.columns[40:80], df.columns[80:]"
   ]
  },
  {
   "cell_type": "code",
   "execution_count": 30,
   "id": "34c5648c-1bbf-402e-9c3d-b20569e93142",
   "metadata": {},
   "outputs": [],
   "source": [
    "df = df[df['City'].isin(['Mumbai', 'Thane'])]\n",
    "df.reset_index(drop=True, inplace=True)\n",
    "df.drop('City', axis=1, inplace=True)"
   ]
  },
  {
   "cell_type": "code",
   "execution_count": 31,
   "id": "0d2795e6-98d3-4b06-81a4-649184bc0b31",
   "metadata": {},
   "outputs": [],
   "source": [
    "df.rename(columns={'Property':'Property BHK Type', 'Parking.1':'Parking', 'sqft Price ':'Price per square feet', 'isPrimeLocationProperty':'Prime location'}, inplace=True)"
   ]
  },
  {
   "cell_type": "code",
   "execution_count": 32,
   "id": "7c6eaf5d-9d81-4dd7-9e98-29516d12f4eb",
   "metadata": {},
   "outputs": [],
   "source": [
    "df = df[df['Possession Status'].isin(['Ready to Move', 'Under Construction'])]\n",
    "df.reset_index(drop=True, inplace=True)"
   ]
  },
  {
   "cell_type": "code",
   "execution_count": 33,
   "id": "3ec5c746-0bc6-4f09-a502-ee26a75c5e88",
   "metadata": {},
   "outputs": [
    {
     "data": {
      "text/plain": [
       "(12335, 119)"
      ]
     },
     "execution_count": 33,
     "metadata": {},
     "output_type": "execute_result"
    }
   ],
   "source": [
    "df.shape"
   ]
  },
  {
   "cell_type": "code",
   "execution_count": 34,
   "id": "e02f36a6-9b1e-45d7-9acd-9e688a30a269",
   "metadata": {
    "scrolled": true
   },
   "outputs": [
    {
     "data": {
      "text/plain": [
       "(Area Name\n",
       " Dombivli East     653\n",
       " Andheri West      479\n",
       " Malad East        466\n",
       " Thane West        427\n",
       " Andheri East      425\n",
       " Kandivali West    356\n",
       " Kolshet Road      320\n",
       " Majiwada          310\n",
       " Goregaon East     278\n",
       " Mira Road East    278\n",
       " Kandivali East    276\n",
       " Virar West        241\n",
       " Manpada           230\n",
       " Prabhadevi        212\n",
       " Kalyan West       202\n",
       " Balkum village    188\n",
       " Dahisar East      185\n",
       " Santacruz West    185\n",
       " Naigaon East      176\n",
       " Dadar West        160\n",
       " Name: count, dtype: int64,\n",
       " Location\n",
       " Dombivli East, Thane      641\n",
       " Andheri West, Mumbai      467\n",
       " Malad East, Mumbai        454\n",
       " Thane West, Thane         417\n",
       " Andheri East, Mumbai      410\n",
       " Kandivali West, Mumbai    345\n",
       " Kolshet Road, Thane       318\n",
       " Majiwada, Thane           310\n",
       " Mira Road East, Mumbai    278\n",
       " Goregaon East, Mumbai     276\n",
       " Kandivali East, Mumbai    273\n",
       " Virar West, Mumbai        237\n",
       " Manpada, Thane            220\n",
       " Prabhadevi, Mumbai        211\n",
       " Kalyan West, Thane        199\n",
       " Balkum village, Thane     188\n",
       " Santacruz West, Mumbai    185\n",
       " Dahisar East, Mumbai      182\n",
       " Naigaon East, Mumbai      169\n",
       " Dadar West, Mumbai        158\n",
       " Name: count, dtype: int64)"
      ]
     },
     "execution_count": 34,
     "metadata": {},
     "output_type": "execute_result"
    }
   ],
   "source": [
    "df['Area Name'].value_counts()[:20], df['Location'].value_counts()[:20]"
   ]
  },
  {
   "cell_type": "code",
   "execution_count": 35,
   "id": "d8897474-1ec1-44ce-9bbc-3c7ef2812b59",
   "metadata": {},
   "outputs": [],
   "source": [
    "df.drop(['Data Referred From', 'Covered Area.1', 'covArea Unit', 'isLuxuryServiceProvided', 'Location', 'Commercial', 'Floor No', 'floors'], axis=1, inplace=True)"
   ]
  },
  {
   "cell_type": "code",
   "execution_count": 36,
   "id": "afcf17e9-08ff-4ba9-b579-4fb5301427bc",
   "metadata": {
    "scrolled": true
   },
   "outputs": [
    {
     "data": {
      "text/plain": [
       "(Index(['ID', 'Possession Status', 'Floor No', 'Developer', 'Units Available',\n",
       "        'Price', 'Price (English)', 'Covered Area', 'Price per square feet',\n",
       "        'Area Name', 'Unit of Carpet Area', 'Society', 'furnished Type',\n",
       "        'Bathroom', 'Transaction Type', 'Floor Data', 'Type of Property',\n",
       "        'bedroom', 'floors', 'Luxury Flat', 'Prime location',\n",
       "        'Tenants Preference', 'Property BHK Type', 'Power Back Up', 'Lift',\n",
       "        'Rain Water Harvesting', 'Club House', 'Swimming Pool', 'Gymnasium',\n",
       "        'Park', 'Parking', 'Security', 'Water Storage',\n",
       "        'Private Terrace/Garden', 'Vaastu Compliant', 'Service/Goods Lift',\n",
       "        'Air Conditioned', 'Visitor Parking', 'Intercom Facility',\n",
       "        'Maintenance Staff'],\n",
       "       dtype='object'),\n",
       " Index(['Waste Disposal', 'Laundry Service', 'Internet/Wi-Fi Connectivity',\n",
       "        'DTH Television Facility', 'RO Water System', 'Banquet Hall',\n",
       "        'Bar/Lounge', 'Cafeteria/Food Court', 'Conference Room', 'Piped Gas',\n",
       "        'Jogging and Strolling Track', 'Outdoor Tennis Courts', 'Mansion',\n",
       "        'Downtown', 'Skyline View', 'Wrap Around Balcony',\n",
       "        'Island Kitchen Layout', 'Full Glass Wall', 'House help accommodation',\n",
       "        'Concierge Services', 'Garden View', 'Marble flooring',\n",
       "        'Well Furnished', 'Modular Kitchen', 'Helipad', 'Private pool ',\n",
       "        'Private Jaccuzi', 'Mini Cinema Theatre', 'Golf Course',\n",
       "        'Infinity Swimming Pool', 'Pool with temperature control ',\n",
       "        'Sea facing', 'Skydeck', 'Earth quake resistant',\n",
       "        'Theme based Architectures', 'Health club with Steam / Jaccuzi',\n",
       "        'Large Clubhouse ', 'Large Open space', 'Fingerprint Access',\n",
       "        'Grand Entrance lobby'],\n",
       "       dtype='object'),\n",
       " Index(['Private Garage', 'Fireplace', 'Wine Cellar', 'Sky Villa',\n",
       "        'Water Front', 'Hilltop', 'Smart Home', 'Barbeque space',\n",
       "        'Kids play area', 'Library', 'Puja Room', 'Study', 'Servant Room',\n",
       "        'Store', 'Aerobics Room', 'Canopy Walk', 'Coffee Lounge & Restaurants',\n",
       "        'Dance Studio', 'Event Space & Amphitheatre', 'Flower Gardens',\n",
       "        'Guest Accommodation', 'Indoor Squash & Badminton Courts',\n",
       "        'Kids Play Area', 'Kids Play Pool With Water Slides',\n",
       "        'Library And Business Centre', 'Meditation Area', 'Multipurpose Courts',\n",
       "        'Recreational Pool', 'Rentable CommuniPfty Space',\n",
       "        'Retail Boulevard (Retail Shops)', 'Cycling & Jogging Track',\n",
       "        'Fire Fighting Equipment', 'Aesthetically designed landscape garden'],\n",
       "       dtype='object'))"
      ]
     },
     "execution_count": 36,
     "metadata": {},
     "output_type": "execute_result"
    }
   ],
   "source": [
    "df.columns[:40], df.columns[40:80], df.columns[80:]"
   ]
  },
  {
   "cell_type": "code",
   "execution_count": 38,
   "id": "3d37ac80-6962-4573-854b-9fd2a8782ffe",
   "metadata": {},
   "outputs": [
    {
     "data": {
      "text/plain": [
       "(12335, 113)"
      ]
     },
     "execution_count": 38,
     "metadata": {},
     "output_type": "execute_result"
    }
   ],
   "source": [
    "df.shape"
   ]
  },
  {
   "cell_type": "code",
   "execution_count": 39,
   "id": "fc41c1f6-b365-4b0b-b64f-24fcba6e8851",
   "metadata": {},
   "outputs": [],
   "source": [
    "for i in df.columns:\n",
    "    df[i] = df[i].fillna(df[i].mode()[0])"
   ]
  },
  {
   "cell_type": "code",
   "execution_count": 40,
   "id": "bc82b837-4b74-4c16-bf75-88daf7a5adac",
   "metadata": {},
   "outputs": [],
   "source": [
    "for i in ['Society', 'furnished Type',\n",
    "        'Bathroom', 'Transaction Type', 'Floor Data', 'Type of Property',\n",
    "        'bedroom', 'Luxury Flat', 'Prime location',\n",
    "        'Tenants Preference', 'Property BHK Type', 'Power Back Up', 'Lift',\n",
    "        'Rain Water Harvesting', 'Club House', 'Swimming Pool', 'Gymnasium',\n",
    "        'Park', 'Parking', 'Security', 'Water Storage',\n",
    "        'Private Terrace/Garden', 'Vaastu Compliant', 'Service/Goods Lift',\n",
    "        'Air Conditioned', 'Visitor Parking', 'Intercom Facility',\n",
    "        'Maintenance Staff', 'Waste Disposal', 'Laundry Service', 'Internet/Wi-Fi Connectivity',\n",
    "        'DTH Television Facility', 'RO Water System', 'Banquet Hall',\n",
    "        'Bar/Lounge', 'Cafeteria/Food Court', 'Conference Room', 'Piped Gas',\n",
    "        'Jogging and Strolling Track', 'Outdoor Tennis Courts', 'Mansion',\n",
    "        'Downtown', 'Skyline View', 'Wrap Around Balcony',\n",
    "        'Island Kitchen Layout', 'Full Glass Wall', 'House help accommodation',\n",
    "        'Concierge Services', 'Garden View', 'Marble flooring',\n",
    "        'Well Furnished', 'Modular Kitchen', 'Helipad', 'Private pool ',\n",
    "        'Private Jaccuzi', 'Mini Cinema Theatre', 'Golf Course',\n",
    "        'Infinity Swimming Pool', 'Pool with temperature control ',\n",
    "        'Sea facing', 'Skydeck', 'Earth quake resistant',\n",
    "        'Theme based Architectures', 'Health club with Steam / Jaccuzi',\n",
    "        'Large Clubhouse ', 'Large Open space', 'Fingerprint Access',\n",
    "        'Grand Entrance lobby', 'Private Garage', 'Fireplace', 'Wine Cellar', 'Sky Villa',\n",
    "        'Water Front', 'Hilltop', 'Smart Home', 'Barbeque space',\n",
    "        'Kids play area', 'Library', 'Puja Room', 'Study', 'Servant Room',\n",
    "        'Store', 'Aerobics Room', 'Canopy Walk', 'Coffee Lounge & Restaurants',\n",
    "        'Dance Studio', 'Event Space & Amphitheatre', 'Flower Gardens',\n",
    "        'Guest Accommodation', 'Indoor Squash & Badminton Courts',\n",
    "        'Kids Play Area', 'Kids Play Pool With Water Slides',\n",
    "        'Library And Business Centre', 'Meditation Area', 'Multipurpose Courts',\n",
    "        'Recreational Pool', 'Rentable CommuniPfty Space',\n",
    "        'Retail Boulevard (Retail Shops)', 'Cycling & Jogging Track',\n",
    "        'Fire Fighting Equipment', 'Aesthetically designed landscape garden']:\n",
    "    if(df[i].dtype != 'object'):\n",
    "        df[i] = np.where(df[i] == 1, i + ', ', '')\n",
    "    else:\n",
    "        df[i] = np.where(df[i] == 'Y', i + ', ', df[i])\n",
    "        df[i] = np.where(df[i] == 'N', '', df[i])\n",
    "\n",
    "cols = ['Society', 'furnished Type',\n",
    "        'Bathroom', 'Transaction Type', 'Floor Data', 'Type of Property',\n",
    "        'bedroom', 'Luxury Flat', 'Prime location',\n",
    "        'Tenants Preference', 'Property BHK Type', 'Power Back Up', 'Lift',\n",
    "        'Rain Water Harvesting', 'Club House', 'Swimming Pool', 'Gymnasium',\n",
    "        'Park', 'Parking', 'Security', 'Water Storage',\n",
    "        'Private Terrace/Garden', 'Vaastu Compliant', 'Service/Goods Lift',\n",
    "        'Air Conditioned', 'Visitor Parking', 'Intercom Facility',\n",
    "        'Maintenance Staff', 'Waste Disposal', 'Laundry Service', 'Internet/Wi-Fi Connectivity',\n",
    "        'DTH Television Facility', 'RO Water System', 'Banquet Hall',\n",
    "        'Bar/Lounge', 'Cafeteria/Food Court', 'Conference Room', 'Piped Gas',\n",
    "        'Jogging and Strolling Track', 'Outdoor Tennis Courts', 'Mansion',\n",
    "        'Downtown', 'Skyline View', 'Wrap Around Balcony',\n",
    "        'Island Kitchen Layout', 'Full Glass Wall', 'House help accommodation',\n",
    "        'Concierge Services', 'Garden View', 'Marble flooring',\n",
    "        'Well Furnished', 'Modular Kitchen', 'Helipad', 'Private pool ',\n",
    "        'Private Jaccuzi', 'Mini Cinema Theatre', 'Golf Course',\n",
    "        'Infinity Swimming Pool', 'Pool with temperature control ',\n",
    "        'Sea facing', 'Skydeck', 'Earth quake resistant',\n",
    "        'Theme based Architectures', 'Health club with Steam / Jaccuzi',\n",
    "        'Large Clubhouse ', 'Large Open space', 'Fingerprint Access',\n",
    "        'Grand Entrance lobby', 'Private Garage', 'Fireplace', 'Wine Cellar', 'Sky Villa',\n",
    "        'Water Front', 'Hilltop', 'Smart Home', 'Barbeque space',\n",
    "        'Kids play area', 'Library', 'Puja Room', 'Study', 'Servant Room',\n",
    "        'Store', 'Aerobics Room', 'Canopy Walk', 'Coffee Lounge & Restaurants',\n",
    "        'Dance Studio', 'Event Space & Amphitheatre', 'Flower Gardens',\n",
    "        'Guest Accommodation', 'Indoor Squash & Badminton Courts',\n",
    "        'Kids Play Area', 'Kids Play Pool With Water Slides',\n",
    "        'Library And Business Centre', 'Meditation Area', 'Multipurpose Courts',\n",
    "        'Recreational Pool', 'Rentable CommuniPfty Space',\n",
    "        'Retail Boulevard (Retail Shops)', 'Cycling & Jogging Track',\n",
    "        'Fire Fighting Equipment', 'Aesthetically designed landscape garden']\n",
    "\n",
    "df['Description/Amenities'] = df[cols].apply(lambda row: ' '.join(row.values.astype(str)), axis=1)\n",
    "df.drop(cols, axis=1, inplace=True)"
   ]
  },
  {
   "cell_type": "code",
   "execution_count": 41,
   "id": "1cb41418-bb65-449c-b269-d91fe742ddb4",
   "metadata": {},
   "outputs": [
    {
     "data": {
      "text/html": [
       "<div>\n",
       "<style scoped>\n",
       "    .dataframe tbody tr th:only-of-type {\n",
       "        vertical-align: middle;\n",
       "    }\n",
       "\n",
       "    .dataframe tbody tr th {\n",
       "        vertical-align: top;\n",
       "    }\n",
       "\n",
       "    .dataframe thead th {\n",
       "        text-align: right;\n",
       "    }\n",
       "</style>\n",
       "<table border=\"1\" class=\"dataframe\">\n",
       "  <thead>\n",
       "    <tr style=\"text-align: right;\">\n",
       "      <th></th>\n",
       "      <th>ID</th>\n",
       "      <th>Possession Status</th>\n",
       "      <th>Floor No</th>\n",
       "      <th>Developer</th>\n",
       "      <th>Units Available</th>\n",
       "      <th>Price</th>\n",
       "      <th>Price (English)</th>\n",
       "      <th>Covered Area</th>\n",
       "      <th>Price per square feet</th>\n",
       "      <th>Area Name</th>\n",
       "      <th>Unit of Carpet Area</th>\n",
       "      <th>Description/Amenities</th>\n",
       "    </tr>\n",
       "  </thead>\n",
       "  <tbody>\n",
       "    <tr>\n",
       "      <th>0</th>\n",
       "      <td>12685</td>\n",
       "      <td>Under Construction</td>\n",
       "      <td>5</td>\n",
       "      <td>Local</td>\n",
       "      <td>1.0</td>\n",
       "      <td>3150000.0</td>\n",
       "      <td>31.5 Lac</td>\n",
       "      <td>635.0</td>\n",
       "      <td>4960.0</td>\n",
       "      <td>Kalyan West</td>\n",
       "      <td>Sq-ft</td>\n",
       "      <td>Society,  Unfurnished  New Property 5 of 14 Fl...</td>\n",
       "    </tr>\n",
       "  </tbody>\n",
       "</table>\n",
       "</div>"
      ],
      "text/plain": [
       "      ID   Possession Status Floor No Developer  Units Available      Price  \\\n",
       "0  12685  Under Construction        5     Local              1.0  3150000.0   \n",
       "\n",
       "  Price (English)  Covered Area  Price per square feet    Area Name  \\\n",
       "0        31.5 Lac         635.0                 4960.0  Kalyan West   \n",
       "\n",
       "  Unit of Carpet Area                              Description/Amenities  \n",
       "0               Sq-ft  Society,  Unfurnished  New Property 5 of 14 Fl...  "
      ]
     },
     "execution_count": 41,
     "metadata": {},
     "output_type": "execute_result"
    }
   ],
   "source": [
    "df.head(1)"
   ]
  },
  {
   "cell_type": "code",
   "execution_count": 43,
   "id": "75c49d92-5980-41b7-829a-0bc0e5c4da2b",
   "metadata": {},
   "outputs": [],
   "source": [
    "df_mira_road = df[df['Area Name'].str.lower().str.contains('mira road')]\n",
    "\n",
    "# Filter the dataframe for properties with swimming pool\n",
    "df_with_swimming_pool = df_mira_road[df_mira_road['Description/Amenities'].str.lower().str.contains('swimming pool')]\n",
    "\n",
    "# Filter the dataframe for properties within 1 crore\n",
    "df_within_1_crore = df_with_swimming_pool[df_with_swimming_pool['Price'] <= 10000000]\n",
    "\n",
    "# Sort the dataframe by Price in descending order\n",
    "df_sorted = df_within_1_crore.sort_values(by=['Price'], ascending=False)\n",
    "\n",
    "# Keep only the top 5 rows\n",
    "df_top_5 = df_sorted.head(5)\n",
    "\n",
    "# Keep only the columns [ID, Area Name, Developer, Description/Amenities, Price]\n",
    "df_top_5 = df_top_5[['ID', 'Area Name', 'Developer', 'Description/Amenities', 'Price']]"
   ]
  },
  {
   "cell_type": "code",
   "execution_count": 44,
   "id": "1d9eb3c0-dae9-4c98-ab62-04d0e0828d4f",
   "metadata": {},
   "outputs": [
    {
     "data": {
      "text/html": [
       "<div>\n",
       "<style scoped>\n",
       "    .dataframe tbody tr th:only-of-type {\n",
       "        vertical-align: middle;\n",
       "    }\n",
       "\n",
       "    .dataframe tbody tr th {\n",
       "        vertical-align: top;\n",
       "    }\n",
       "\n",
       "    .dataframe thead th {\n",
       "        text-align: right;\n",
       "    }\n",
       "</style>\n",
       "<table border=\"1\" class=\"dataframe\">\n",
       "  <thead>\n",
       "    <tr style=\"text-align: right;\">\n",
       "      <th></th>\n",
       "      <th>ID</th>\n",
       "      <th>Area Name</th>\n",
       "      <th>Developer</th>\n",
       "      <th>Description/Amenities</th>\n",
       "      <th>Price</th>\n",
       "    </tr>\n",
       "  </thead>\n",
       "  <tbody>\n",
       "    <tr>\n",
       "      <th>8367</th>\n",
       "      <td>4055</td>\n",
       "      <td>Mira Road East</td>\n",
       "      <td>Local</td>\n",
       "      <td>Semi-Furnished  New Property 20 of 30 Floor A...</td>\n",
       "      <td>10000000.0</td>\n",
       "    </tr>\n",
       "    <tr>\n",
       "      <th>7201</th>\n",
       "      <td>5253</td>\n",
       "      <td>Mira Road East</td>\n",
       "      <td>Local</td>\n",
       "      <td>Semi-Furnished  New Property 20 of 30 Floor A...</td>\n",
       "      <td>10000000.0</td>\n",
       "    </tr>\n",
       "    <tr>\n",
       "      <th>7215</th>\n",
       "      <td>5239</td>\n",
       "      <td>Mira Road East</td>\n",
       "      <td>Raj Realty Group</td>\n",
       "      <td>Society,  Semi-Furnished  New Property 2 of 33...</td>\n",
       "      <td>9900000.0</td>\n",
       "    </tr>\n",
       "    <tr>\n",
       "      <th>8381</th>\n",
       "      <td>4041</td>\n",
       "      <td>Mira Road East</td>\n",
       "      <td>Raj Realty Group</td>\n",
       "      <td>Society,  Semi-Furnished  New Property 2 of 33...</td>\n",
       "      <td>9900000.0</td>\n",
       "    </tr>\n",
       "    <tr>\n",
       "      <th>7083</th>\n",
       "      <td>5371</td>\n",
       "      <td>Mira Road East</td>\n",
       "      <td>Walchand Group</td>\n",
       "      <td>Society,  Unfurnished  New Property 5 of 27 Fl...</td>\n",
       "      <td>9845000.0</td>\n",
       "    </tr>\n",
       "  </tbody>\n",
       "</table>\n",
       "</div>"
      ],
      "text/plain": [
       "        ID       Area Name         Developer  \\\n",
       "8367  4055  Mira Road East             Local   \n",
       "7201  5253  Mira Road East             Local   \n",
       "7215  5239  Mira Road East  Raj Realty Group   \n",
       "8381  4041  Mira Road East  Raj Realty Group   \n",
       "7083  5371  Mira Road East    Walchand Group   \n",
       "\n",
       "                                  Description/Amenities       Price  \n",
       "8367   Semi-Furnished  New Property 20 of 30 Floor A...  10000000.0  \n",
       "7201   Semi-Furnished  New Property 20 of 30 Floor A...  10000000.0  \n",
       "7215  Society,  Semi-Furnished  New Property 2 of 33...   9900000.0  \n",
       "8381  Society,  Semi-Furnished  New Property 2 of 33...   9900000.0  \n",
       "7083  Society,  Unfurnished  New Property 5 of 27 Fl...   9845000.0  "
      ]
     },
     "execution_count": 44,
     "metadata": {},
     "output_type": "execute_result"
    }
   ],
   "source": [
    "df_top_5"
   ]
  },
  {
   "cell_type": "code",
   "execution_count": 42,
   "id": "73a5e33c-a854-4451-aa2d-affa21c44287",
   "metadata": {},
   "outputs": [],
   "source": [
    "# df.to_csv('D:/Downloads/props cleaned.csv', index=False)"
   ]
  },
  {
   "cell_type": "code",
   "execution_count": 45,
   "id": "33f1afa7-f093-42a3-956e-237596369b5e",
   "metadata": {},
   "outputs": [],
   "source": [
    "# df_location_property_count = df.groupby(['Area Name'])['Units Available'].sum().to_frame().reset_index()\n",
    "# df_location_property_count = df_location_property_count[:10]\n",
    "\n",
    "# import numpy as np\n",
    "\n",
    "# for i in df.columns:\n",
    "#     if (df[i].nunique() == 2):\n",
    "#         if(df[i].min() == 0) & (df[i].max() == 1):\n",
    "#             df[i] = np.where(df[i] == 0, 'No', 'Yes')\n",
    "\n",
    "# df.rename(columns={'Price (English)':'Value'}, inplace=True)\n",
    "\n",
    "# df.to_csv('D:/Downloads/prop.csv', index=False)\n",
    "\n",
    "# df.dtypes\n",
    "\n",
    "# df_filtered = df[(df['Area Name'] == 'Kalyan West') & (df['Swimming Pool'] == 'Yes') & (df['Price'] <= 5000000)]\n",
    "\n",
    "# df['Swimming Pool'].nunique()\n",
    "\n",
    "# df_sorted = df_filtered.sort_values(by='Price', ascending=True)\n",
    "\n",
    "# # Get the best property (i.e., the property with the lowest price) from the sorted dataframe\n",
    "# best_property = df_sorted.iloc[0]\n",
    "\n",
    "# # Print the details of the best property\n",
    "# print(\"The best property with swimming pool within 50 lakhs in Kalywan West is:\")\n",
    "# print(best_property)"
   ]
  },
  {
   "cell_type": "code",
   "execution_count": null,
   "id": "f580c1de-a0c8-4498-9e13-83cd215be0bc",
   "metadata": {},
   "outputs": [],
   "source": []
  }
 ],
 "metadata": {
  "kernelspec": {
   "display_name": "Python 3 (ipykernel)",
   "language": "python",
   "name": "python3"
  },
  "language_info": {
   "codemirror_mode": {
    "name": "ipython",
    "version": 3
   },
   "file_extension": ".py",
   "mimetype": "text/x-python",
   "name": "python",
   "nbconvert_exporter": "python",
   "pygments_lexer": "ipython3",
   "version": "3.12.4"
  }
 },
 "nbformat": 4,
 "nbformat_minor": 5
}
